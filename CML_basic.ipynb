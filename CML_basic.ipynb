{
 "cells": [
  {
   "cell_type": "code",
   "execution_count": 1,
   "id": "54870d90",
   "metadata": {},
   "outputs": [],
   "source": [
    "import pandas as pd                                              \n",
    "import numpy as np                                       \n",
    "import matplotlib.pyplot as plt                       \n",
    "from sklearn.preprocessing import RobustScaler, MinMaxScaler\n",
    "from sklearn.model_selection import KFold, train_test_split\n",
    "from sklearn.model_selection import GridSearchCV\n",
    "from sklearn.neural_network import MLPRegressor\n",
    "from sklearn.ensemble import RandomForestRegressor\n",
    "from sklearn.metrics import r2_score, mean_squared_error, mean_absolute_error, mean_absolute_percentage_error, median_absolute_error"
   ]
  },
  {
   "cell_type": "code",
   "execution_count": 2,
   "id": "fcd14c8e",
   "metadata": {},
   "outputs": [],
   "source": [
    "data = pd.read_excel(\"your_dataset\")\n",
    "x = data.drop(columns='target').values\n",
    "y = data[['target']].values\n",
    "x_scaled = RobustScaler().fit_transform(x)\n",
    "model1 = MLPRegressor()\n",
    "model2 = RandomForestRegressor()\n",
    "param_grid1 = {\n",
    "    'hidden_layer_sizes': [(50,), (100,), (50, 50)],\n",
    "    'alpha': [0.0001, 0.001, 0.01],\n",
    "    'max_iter': [200, 300, 400]\n",
    "}\n",
    "param_grid2 = {\n",
    "    'n_estimators': [50, 100, 200],\n",
    "    'max_depth': [None, 10, 20],\n",
    "    'min_samples_split': [2, 5, 10]\n",
    "}\n",
    "kfold = KFold(n_splits=5, shuffle=True, random_state=0)\n",
    "for train, test in kfold.split(x_scaled, y):\n",
    "    x_train, x_test = x_scaled[train], x_scaled[test]\n",
    "    y_train, y_test = y[train], y[test]\n",
    "    grid_search1 = GridSearchCV(model1, param_grid1, cv=3, scoring='neg_mean_squared_error')\n",
    "    grid_search1.fit(x_train, y_train.ravel())\n",
    "    best_model1 = grid_search1.best_estimator_\n",
    "    y_pred_train1 = best_model1.predict(x_train)\n",
    "    y_pred_test1 = best_model1.predict(x_test)\n",
    "    grid_search2 = GridSearchCV(model2, param_grid2, cv=3, scoring='neg_mean_squared_error')\n",
    "    grid_search2.fit(x_train, y_train.ravel())\n",
    "    best_model2 = grid_search2.best_estimator_\n",
    "    y_pred_train2 = best_model2.predict(x_train)\n",
    "    y_pred_test2 = best_model2.predict(x_test)\n",
    "    print(\"MLPRegressor:\")\n",
    "    print(\"R2 Train   :\", r2_score(y_train, y_pred_train1))\n",
    "    print(\"RMSE Train :\", np.sqrt(mean_squared_error(y_train, y_pred_train1)))\n",
    "    print(\"MAE Train  :\", mean_absolute_error(y_train, y_pred_train1))\n",
    "    print(\"MAD Train  :\", median_absolute_error(y_train, y_pred_train1))\n",
    "    print('==========================================')\n",
    "    print(\"R2 Test    :\", r2_score(y_test, y_pred_test1))\n",
    "    print(\"RMSE Test  :\", np.sqrt(mean_squared_error(y_test, y_pred_test1)))\n",
    "    print(\"MAE Test   :\", mean_absolute_error(y_test, y_pred_test1))\n",
    "    print(\"MAD Test   :\", median_absolute_error(y_test, y_pred_test1))\n",
    "\n",
    "    print(\"RandomForestRegressor:\")\n",
    "    print(\"R2 Train   :\", r2_score(y_train, y_pred_train2))\n",
    "    print(\"RMSE Train :\", np.sqrt(mean_squared_error(y_train, y_pred_train2)))\n",
    "    print(\"MAE Train  :\", mean_absolute_error(y_train, y_pred_train2))\n",
    "    print(\"MAD Train  :\", median_absolute_error(y_train, y_pred_train2))\n",
    "    print('==========================================')\n",
    "    print(\"R2 Test    :\", r2_score(y_test, y_pred_test2))\n",
    "    print(\"RMSE Test  :\", np.sqrt(mean_squared_error(y_test, y_pred_test2)))\n",
    "    print(\"MAE Test   :\", mean_absolute_error(y_test, y_pred_test2))\n",
    "    print(\"MAD Test   :\", median_absolute_error(y_test, y_pred_test2))"
   ]
  }
 ],
 "metadata": {
  "kernelspec": {
   "display_name": "Python 3 (ipykernel)",
   "language": "python",
   "name": "python3"
  },
  "language_info": {
   "codemirror_mode": {
    "name": "ipython",
    "version": 3
   },
   "file_extension": ".py",
   "mimetype": "text/x-python",
   "name": "python",
   "nbconvert_exporter": "python",
   "pygments_lexer": "ipython3",
   "version": "3.11.4"
  }
 },
 "nbformat": 4,
 "nbformat_minor": 5
}
